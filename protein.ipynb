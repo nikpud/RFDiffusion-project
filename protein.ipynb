{
 "cells": [
  {
   "cell_type": "code",
   "execution_count": null,
   "id": "c1244ab5-f031-4b47-a66d-64cad5ce26ed",
   "metadata": {},
   "outputs": [],
   "source": [
    "name = \"test\"\n",
    "contigs = '100'\n",
    "pdb = '6WRV' \n",
    "iterations = 50\n",
    "hotspot = \"\"\n",
    "num_designs = 1\n",
    "visual = \"image\"\n",
    "\n",
    "#**symmetry** settings\n",
    "symmetry = \"none\"\n",
    "order = 1\n",
    "chains = \"\"\n",
    "add_potential = True\n",
    "\n",
    "partial_T = \"auto\"\n",
    "use_beta_model = False\n",
    "path = name\n",
    "while os.path.exists(f\"outputs/{path}_0.pdb\"):\n",
    "  path = name + \"_\" + ''.join(random.choices(string.ascii_lowercase + string.digits, k=5))\n",
    "\n",
    "flags = {\"contigs\":contigs,\n",
    "         \"pdb\":pdb,\n",
    "         \"order\":order,\n",
    "         \"iterations\":iterations,\n",
    "         \"symmetry\":symmetry,\n",
    "         \"hotspot\":hotspot,\n",
    "         \"path\":path,\n",
    "         \"chains\":chains,\n",
    "         \"add_potential\":add_potential,\n",
    "         \"num_designs\":num_designs,\n",
    "         \"use_beta_model\":use_beta_model,\n",
    "         \"visual\":visual,\n",
    "         \"partial_T\":partial_T}\n",
    "\n",
    "for k,v in flags.items():\n",
    "  if isinstance(v,str):\n",
    "    flags[k] = v.replace(\"'\",\"\").replace('\"','')\n",
    "\n",
    "contigs, copies = run_diffusion(**flags)"
   ]
  }
 ],
 "metadata": {
  "kernelspec": {
   "display_name": "Python 3 (ipykernel)",
   "language": "python",
   "name": "python3"
  },
  "language_info": {
   "codemirror_mode": {
    "name": "ipython",
    "version": 3
   },
   "file_extension": ".py",
   "mimetype": "text/x-python",
   "name": "python",
   "nbconvert_exporter": "python",
   "pygments_lexer": "ipython3",
   "version": "3.13.2"
  }
 },
 "nbformat": 4,
 "nbformat_minor": 5
}
